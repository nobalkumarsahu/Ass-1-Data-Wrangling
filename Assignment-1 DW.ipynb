{
 "cells": [
  {
   "cell_type": "code",
   "execution_count": 2,
   "id": "0d4be947",
   "metadata": {},
   "outputs": [
    {
     "data": {
      "text/plain": [
       "array([0., 0., 0., 0., 1., 0., 0., 0., 0., 0.])"
      ]
     },
     "execution_count": 2,
     "metadata": {},
     "output_type": "execute_result"
    }
   ],
   "source": [
    "#1. Create a null vector of size 10 but the fifth value which is 1.\n",
    "\n",
    "import numpy as np\n",
    "\n",
    "arr = np.zeros(10)\n",
    "arr[4]=1\n",
    "arr"
   ]
  },
  {
   "cell_type": "code",
   "execution_count": 6,
   "id": "39736526",
   "metadata": {},
   "outputs": [
    {
     "data": {
      "text/plain": [
       "array([10, 11, 12, 13, 14, 15, 16, 17, 18, 19, 20, 21, 22, 23, 24, 25, 26,\n",
       "       27, 28, 29, 30, 31, 32, 33, 34, 35, 36, 37, 38, 39, 40, 41, 42, 43,\n",
       "       44, 45, 46, 47, 48, 49])"
      ]
     },
     "execution_count": 6,
     "metadata": {},
     "output_type": "execute_result"
    }
   ],
   "source": [
    "#2. Create a vector with values ranging from 10 to 49.\n",
    "\n",
    "arr=np.arange(10,50)\n",
    "arr"
   ]
  },
  {
   "cell_type": "code",
   "execution_count": 7,
   "id": "37cd5ea7",
   "metadata": {},
   "outputs": [
    {
     "data": {
      "text/plain": [
       "array([[0, 1, 2],\n",
       "       [3, 4, 5],\n",
       "       [6, 7, 8]])"
      ]
     },
     "execution_count": 7,
     "metadata": {},
     "output_type": "execute_result"
    }
   ],
   "source": [
    "#3. Create a 3x3 matrix with values ranging from 0 to 8\n",
    "\n",
    "arr=np.arange(0,9).reshape(3,3)\n",
    "arr"
   ]
  },
  {
   "cell_type": "code",
   "execution_count": 8,
   "id": "a53a7d23",
   "metadata": {},
   "outputs": [
    {
     "data": {
      "text/plain": [
       "(array([0, 1, 4], dtype=int64),)"
      ]
     },
     "execution_count": 8,
     "metadata": {},
     "output_type": "execute_result"
    }
   ],
   "source": [
    "#4. Find indices of non-zero elements from [1,2,0,0,4,0]\n",
    "\n",
    "x=[1,2,0,0,4,0]\n",
    "np.nonzero(x)"
   ]
  },
  {
   "cell_type": "code",
   "execution_count": 3,
   "id": "49cca5d5",
   "metadata": {},
   "outputs": [
    {
     "name": "stdout",
     "output_type": "stream",
     "text": [
      "[[0.93132018 0.83765777 0.99324002 0.5564483  0.06463369 0.12779391\n",
      "  0.33812339 0.15202835 0.45304014 0.67710657]\n",
      " [0.16653706 0.13647763 0.52662519 0.23315931 0.38767414 0.27856393\n",
      "  0.22227823 0.46736774 0.54403477 0.51934662]\n",
      " [0.28639904 0.12885294 0.69084736 0.2794741  0.3088672  0.74593043\n",
      "  0.65562893 0.97688298 0.81960119 0.29363143]\n",
      " [0.71463444 0.39943983 0.02854689 0.70097935 0.40738342 0.71205217\n",
      "  0.21768696 0.50780186 0.22763424 0.3158487 ]\n",
      " [0.77759812 0.07451949 0.35931654 0.02561917 0.40700549 0.34328056\n",
      "  0.24620466 0.67155247 0.40069743 0.06608804]\n",
      " [0.46894285 0.80346992 0.86645715 0.37222378 0.36462114 0.64210754\n",
      "  0.47395197 0.80901828 0.16661843 0.88032182]\n",
      " [0.64568602 0.00866262 0.72936546 0.20942667 0.44644901 0.00933262\n",
      "  0.19986691 0.56453393 0.40194175 0.1366176 ]\n",
      " [0.6094446  0.84063296 0.23254424 0.57228219 0.59786684 0.52978022\n",
      "  0.98787355 0.61110416 0.08159151 0.89590316]\n",
      " [0.75683729 0.17842277 0.30142705 0.52603512 0.8802159  0.95526844\n",
      "  0.95233837 0.62714719 0.50001491 0.25427204]\n",
      " [0.41357215 0.78549869 0.21344992 0.84911034 0.00347321 0.70585001\n",
      "  0.6958252  0.76370916 0.47679339 0.86014103]]\n",
      "Minimum values 0.0034732055367941994 and Maximum Values 0.9932400209490465\n"
     ]
    }
   ],
   "source": [
    "#5. Create a 10x10 array with random values and find the minimum and maximum values.\n",
    "\n",
    "x = np.random.random((10,10))\n",
    "print(x) \n",
    "xmin, xmax = x.min(), x.max()\n",
    "print(\"Minimum values\", xmin ,\"and Maximum Values\" ,xmax)"
   ]
  },
  {
   "cell_type": "code",
   "execution_count": 5,
   "id": "ff7eb268",
   "metadata": {},
   "outputs": [
    {
     "data": {
      "text/plain": [
       "array([ 0,  1,  2,  3,  4,  5,  6,  7,  8,  9, 10, 11, 12, 13, 14, 15, 16,\n",
       "       17, 18, 19, 20, 21, 22, 23, 24, 25, 26, 27, 28, 29])"
      ]
     },
     "execution_count": 5,
     "metadata": {},
     "output_type": "execute_result"
    }
   ],
   "source": [
    "#6. Create a random vector of size 30 and find the mean value.\n",
    "arr=np.arange(0,30)\n",
    "arr"
   ]
  },
  {
   "cell_type": "code",
   "execution_count": 6,
   "id": "0ee17305",
   "metadata": {},
   "outputs": [
    {
     "data": {
      "text/plain": [
       "14.5"
      ]
     },
     "execution_count": 6,
     "metadata": {},
     "output_type": "execute_result"
    }
   ],
   "source": [
    "arr.mean()"
   ]
  }
 ],
 "metadata": {
  "kernelspec": {
   "display_name": "Python 3 (ipykernel)",
   "language": "python",
   "name": "python3"
  },
  "language_info": {
   "codemirror_mode": {
    "name": "ipython",
    "version": 3
   },
   "file_extension": ".py",
   "mimetype": "text/x-python",
   "name": "python",
   "nbconvert_exporter": "python",
   "pygments_lexer": "ipython3",
   "version": "3.10.0"
  }
 },
 "nbformat": 4,
 "nbformat_minor": 5
}
